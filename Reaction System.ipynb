{
 "cells": [
  {
   "cell_type": "markdown",
   "metadata": {},
   "source": [
    "# SEIR Model as a Reaction System"
   ]
  },
  {
   "cell_type": "code",
   "execution_count": null,
   "metadata": {},
   "outputs": [
    {
     "name": "stderr",
     "output_type": "stream",
     "text": [
      "┌ Info: Precompiling Catalyst [479239e8-5488-4da2-87a7-35f2df7eef83]\n",
      "└ @ Base loading.jl:1278\n"
     ]
    }
   ],
   "source": [
    "# empty -> S,  lambda\n",
    "# S -> empty,  mu\n",
    "# S + I -> I + E, beta\n",
    "# E -> empty, mu\n",
    "# E -> I, a\n",
    "# I -> empty, mu\n",
    "# I -> R, gamma,\n",
    "# R -> empty, mu\n",
    "\n",
    "lambda = 1.0\n",
    "mu = 0.05\n",
    "beta = 0.4\n",
    "N = 10000\n",
    "a = 0.25\n",
    "gamma = 0.25\n",
    "\n",
    "S0 = 99.0\n",
    "E0 = 75\n",
    "I0 = 1\n",
    "R0 = 0 \n",
    "\n",
    "using Catalyst, Plots, DifferentialEquations\n",
    "rs = @reaction_network begin\n",
    "  lambda, 0 --> S\n",
    "  mu, S --> 0\n",
    "  beta/N, S + I --> I + E\n",
    "  mu, E --> 0\n",
    "  a, E --> I\n",
    "  mu, I --> 0\n",
    "  gamma, I --> R\n",
    "  mu, R --> 0\n",
    "end lambda mu beta N a gamma\n",
    "tspan = (0.,100.)\n",
    "u0 = [S0, I0, E0, R0]\n",
    "p = [lambda,mu,beta,N,a,gamma]\n",
    "\n",
    "### Stochastic Model:\n",
    "dprob = DiscreteProblem(rs, u0, tspan, p)\n",
    "jprob = JumpProblem(rs, dprob, Direct())\n",
    "sol = solve(jprob, SSAStepper())\n",
    "\n",
    "plot(sol,lw=5,xaxis=\"Time (t)\",yaxis=\"Number\",\n",
    "title=\"SEIR Model - 'Chemical Reaction'\")\n"
   ]
  }
 ],
 "metadata": {
  "kernelspec": {
   "display_name": "Julia 1.5.1",
   "language": "julia",
   "name": "julia-1.5"
  },
  "language_info": {
   "file_extension": ".jl",
   "mimetype": "application/julia",
   "name": "julia",
   "version": "1.5.1"
  }
 },
 "nbformat": 4,
 "nbformat_minor": 2
}
